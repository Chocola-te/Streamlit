{
 "cells": [
  {
   "cell_type": "markdown",
   "id": "a86508af",
   "metadata": {},
   "source": [
    "##### !pip install streamlit\n",
    "\n",
    "Streamlit 설치  \n",
    "pip install streamlit   \n",
    "웹앱 실행  \n",
    "streamlit run app.py   \n",
    "\n",
    "[ Streamlit ] 이란?  \n",
    "Python을 사용하여 빠르게 웹 애플리케이션을 개발할 수 있도록 도와주는 오픈소스 프레임워크  \n",
    "데이터 시각화, 대시보드, AI/머신러닝 모델을 웹으로 배포\n",
    "<br>\n",
    "특징  \n",
    "- 쉬운 사용법 : HTML, CSS, JavaScript 없이 순수 Python 코드만으로 웹앱을 개발할 수 있다.  \n",
    "streamlit run 명령어 하나로 실행 가능.<br><br>\n",
    "- 빠른 데이터 시각화 : Pandas의 DataFrame, Matplotlib, Plotly, Seaborn 등의 차트를 쉽게 웹에 표시.<br><br>  \n",
    "- 인터랙티브 UI 지원 :st.button(), st.slider(), st.selectbox() 등을 이용해 사용자 입력을 처리할 수 있음.<br><br> \n",
    "- 머신러닝 모델 배포 용이 : Scikit-learn, TensorFlow, PyTorch 등의 모델을 웹에서 실행 가능.  \n",
    "코드 수정 후 새로고침 없이 자동 업데이트.  \n",
    "<br>  "
   ]
  },
  {
   "cell_type": "code",
   "execution_count": null,
   "id": "cdac435a",
   "metadata": {
    "vscode": {
     "languageId": "plaintext"
    }
   },
   "outputs": [],
   "source": [
    "터미널 파일 경로로 이동 (cd ./tab || cd streamlit)\n",
    "cmd: streamlit run stream01.py\n",
    "exit: ctrl + c"
   ]
  }
 ],
 "metadata": {
  "language_info": {
   "name": "python"
  }
 },
 "nbformat": 4,
 "nbformat_minor": 5
}
